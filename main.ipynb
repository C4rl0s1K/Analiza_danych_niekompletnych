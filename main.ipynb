{
 "cells": [
  {
   "cell_type": "code",
   "execution_count": 26,
   "metadata": {},
   "outputs": [],
   "source": [
    "#Importowanie odpowiednich bibliotek\n",
    "\n",
    "import pandas as pd\n",
    "from sklearn.preprocessing import LabelEncoder\n",
    "from sklearn.impute import SimpleImputer\n",
    "\n",
    "import xgboost as xgb\n",
    "from sklearn.metrics import mean_squared_error\n",
    "from sklearn.model_selection import train_test_split"
   ]
  },
  {
   "cell_type": "code",
   "execution_count": 27,
   "metadata": {},
   "outputs": [],
   "source": [
    "#Utworzenie zbioru treningowego oraz testowego\n",
    "\n",
    "train_data = pd.read_csv(\"raw data/pzn-rent-train.csv\")\n",
    "test_data = pd.read_csv(\"raw data/pzn-rent-test.csv\")"
   ]
  },
  {
   "cell_type": "code",
   "execution_count": 28,
   "metadata": {},
   "outputs": [],
   "source": [
    "#Podzielenie zbioru danych na dane kategoryczne (True/False) i numeryczne\n",
    "\n",
    "numerical_columns = train_data.select_dtypes(include=[\"float64\", \"int64\"]).columns.tolist()\n",
    "categorical_columns = train_data.select_dtypes(include=[\"object\"]).columns.tolist()\n",
    "\n",
    "numerical_columns.remove(\"price\")"
   ]
  },
  {
   "cell_type": "code",
   "execution_count": 29,
   "metadata": {},
   "outputs": [],
   "source": [
    "#Tworze imputer, który uzupełnij odpowiednio dane numeryczne\n",
    "\n",
    "numerical_imputer = SimpleImputer(strategy=\"median\")\n",
    "train_data[numerical_columns] = numerical_imputer.fit_transform(train_data[numerical_columns])\n",
    "test_data[numerical_columns] = numerical_imputer.transform(test_data[numerical_columns])\n",
    "\n",
    "#Tworze imputer, który uzupełnij odpowiednio dane kategoryczne\n",
    "\n",
    "categorical_imputer = SimpleImputer(strategy=\"most_frequent\")\n",
    "train_data[categorical_columns] = categorical_imputer.fit_transform(train_data[categorical_columns])\n",
    "test_data[categorical_columns] = categorical_imputer.transform(test_data[categorical_columns])"
   ]
  },
  {
   "cell_type": "code",
   "execution_count": 30,
   "metadata": {},
   "outputs": [],
   "source": [
    "#Przekształcenie kolumn z typu numerycznego na typ daty\n",
    "\n",
    "train_data[\"date_activ\"] = pd.to_datetime(train_data[\"date_activ\"])\n",
    "train_data[\"date_modif\"] = pd.to_datetime(train_data[\"date_modif\"])\n",
    "train_data[\"date_expire\"] = pd.to_datetime(train_data[\"date_expire\"])\n",
    "\n",
    "test_data[\"date_activ\"] = pd.to_datetime(test_data[\"date_activ\"])\n",
    "test_data[\"date_modif\"] = pd.to_datetime(test_data[\"date_modif\"])\n",
    "test_data[\"date_expire\"] = pd.to_datetime(test_data[\"date_expire\"])\n",
    "\n",
    "# Pozbycie się dat, na konkretna liczbe dni aby model mógł działać poprawnie\n",
    "\n",
    "train_data[\"active_duration\"] = (train_data[\"date_modif\"] - train_data[\"date_activ\"]).dt.days\n",
    "train_data[\"remaining_days\"] = (train_data[\"date_expire\"] - train_data[\"date_modif\"]).dt.days\n",
    "\n",
    "test_data[\"active_duration\"] = (test_data[\"date_modif\"] - test_data[\"date_activ\"]).dt.days\n",
    "test_data[\"remaining_days\"] = (test_data[\"date_expire\"] - test_data[\"date_modif\"]).dt.days\n",
    "\n",
    "\n",
    "train_data.drop([\"date_activ\", \"date_modif\", \"date_expire\"], axis=1, inplace=True)\n",
    "test_data.drop([\"date_activ\", \"date_modif\", \"date_expire\"], axis=1, inplace=True)"
   ]
  },
  {
   "cell_type": "code",
   "execution_count": 31,
   "metadata": {},
   "outputs": [],
   "source": [
    "# Lista kolumn kategorycznych do przetworzenia\n",
    "categorical_columns = [\"individual\", \"flat_furnished\", \"flat_for_students\", \"flat_balcony\",\n",
    "                       \"flat_garage\", \"flat_basement\", \"flat_garden\", \"flat_tarrace\", \"flat_lift\",\n",
    "                       \"flat_two_level\", \"flat_kitchen_sep\", \"flat_air_cond\", \"flat_nonsmokers\",\n",
    "                       \"flat_washmachine\", \"flat_dishwasher\", \"flat_internet\", \"flat_television\",\n",
    "                       \"flat_anti_blinds\", \"flat_monitoring\", \"flat_closed_area\", \"quarter\"]\n",
    "\n",
    "# Zastosowanie kodowania One-Hot Encoding dla zmiennej \"quarter\"\n",
    "train_data = pd.get_dummies(train_data, columns=[\"quarter\"], drop_first=True)\n",
    "test_data = pd.get_dummies(test_data, columns=[\"quarter\"], drop_first=True)\n",
    "\n",
    "encoder = LabelEncoder()\n",
    "\n",
    "# Iteracja przez kolumny kategoryczne i kodowanie za pomocą LabelEncoder\n",
    "\n",
    "for col in categorical_columns:\n",
    "    if col != \"quarter\": \n",
    "        train_data[col] = encoder.fit_transform(train_data[col])\n",
    "        test_data[col] = encoder.transform(test_data[col])"
   ]
  },
  {
   "cell_type": "code",
   "execution_count": 32,
   "metadata": {},
   "outputs": [],
   "source": [
    "#Sprawdzam kolumny w zbiorach\n",
    "\n",
    "train_columns = train_data.columns\n",
    "test_columns = test_data.columns\n",
    "\n",
    "\n",
    "# Dodaj brakujące kolumny do zbioru testowego\n",
    "\n",
    "for column in train_columns:\n",
    "    if column not in test_columns:\n",
    "        test_data[column] = 0\n",
    "\n",
    "# Dodaj brakujące kolumny do zbioru treningowego\n",
    "\n",
    "for column in test_columns:\n",
    "    if column not in train_columns:\n",
    "        train_data[column] = 0"
   ]
  },
  {
   "cell_type": "code",
   "execution_count": 33,
   "metadata": {},
   "outputs": [
    {
     "name": "stdout",
     "output_type": "stream",
     "text": [
      "Mean Squared Error XGBoost Regressor: 87738.375\n"
     ]
    }
   ],
   "source": [
    "#Przygotowanie danych do predykcji\n",
    "X = train_data.drop(columns=[\"id\", \"ad_title\", \"price\"])  # Usunięcie kolumn niepotrzebnych\n",
    "y = train_data[\"price\"] #Cena jest zmienna która będzie predykcjonowana \n",
    "\n",
    "# Podział danych na zbiór treningowy i testowy\n",
    "X_train, X_test, y_train, y_test = train_test_split(X, y, test_size=0.2, random_state=42)\n",
    "\n",
    "#Stworzenie modelu\n",
    "model_xgb = xgb.XGBRegressor(n_estimators=3000, learning_rate=0.005, max_depth=7, min_child_weight=5, subsample=0.7, colsample_bytree=0.7, gamma=0.1, random_state=42)\n",
    "\n",
    "#Trenowanie modelu\n",
    "model_xgb.fit(X_train, y_train)\n",
    "\n",
    "#Predykcja na zbiorze testowym\n",
    "y_pred_xgb = model_xgb.predict(X_test)\n",
    "\n",
    "#Obliczanie MSE\n",
    "mse_xgb = mean_squared_error(y_test, y_pred_xgb)\n",
    "print(f\"Mean Squared Error XGBoost Regressor: {mse_xgb}\")\n"
   ]
  },
  {
   "cell_type": "code",
   "execution_count": 34,
   "metadata": {},
   "outputs": [
    {
     "name": "stdout",
     "output_type": "stream",
     "text": [
      "   ID       TARGET\n",
      "0   1  1872.382568\n",
      "1   2  1210.934204\n",
      "2   3  1338.144409\n",
      "3   4  1684.964233\n",
      "4   5  3131.119629\n"
     ]
    }
   ],
   "source": [
    "# Przygotowanie zbioru testowego\n",
    "X_test_final = test_data.drop(columns=[\"id\", \"ad_title\"])  # Usunięcie kolumn niepotrzebnych\n",
    "X_test_final = X_test_final[X_train.columns]  # Upewnienie się, że kolumny są w tej samej kolejności co w X_train\n",
    "\n",
    "# Predykcja na zbiorze testowym\n",
    "y_test_predictions = model_xgb.predict(X_test_final)\n",
    "\n",
    "submission = pd.DataFrame({\n",
    "    \"ID\": test_data.index + 1,\n",
    "    \"TARGET\": y_test_predictions\n",
    "})\n",
    "\n",
    "print(submission.head())\n",
    "submission.to_csv(\"pzn-solution2.csv\", index=False)\n"
   ]
  }
 ],
 "metadata": {
  "kernelspec": {
   "display_name": "venv",
   "language": "python",
   "name": "python3"
  },
  "language_info": {
   "codemirror_mode": {
    "name": "ipython",
    "version": 3
   },
   "file_extension": ".py",
   "mimetype": "text/x-python",
   "name": "python",
   "nbconvert_exporter": "python",
   "pygments_lexer": "ipython3",
   "version": "3.13.1"
  }
 },
 "nbformat": 4,
 "nbformat_minor": 2
}
